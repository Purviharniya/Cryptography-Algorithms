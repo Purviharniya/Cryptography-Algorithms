{
 "cells": [
  {
   "cell_type": "code",
   "execution_count": 1,
   "metadata": {},
   "outputs": [
    {
     "name": "stdout",
     "output_type": "stream",
     "text": [
      "Enter string: this is a secret\n",
      "Enter shift number: 3\n",
      "Original string:  this is a secret\n",
      "After encryption:  fvyc yc a cmgzmf\n",
      "After decryption:  this is a secret\n"
     ]
    }
   ],
   "source": [
    "def encrypt(string, shift):\n",
    "    cipher = ''\n",
    "    for char in string: \n",
    "        if char == ' ':\n",
    "            cipher = cipher + char\n",
    "        elif  char.isupper():\n",
    "            cipher = cipher + chr(((ord(char) - 65) * shift) % 26 + 65)\n",
    "        else:\n",
    "            cipher = cipher + chr(((ord(char)- 97) * shift ) % 26 + 97)\n",
    "    return cipher\n",
    "\n",
    "def inv(shift):\n",
    "    for i in range(26):\n",
    "        if(shift*i)%26==1:\n",
    "            return i\n",
    "\n",
    "def decrypt(string,shift):\n",
    "    cipher = ''\n",
    "    for char in string: \n",
    "        if char == ' ':\n",
    "            cipher = cipher + char\n",
    "        elif  char.isupper():\n",
    "            cipher = cipher + chr(((ord(char)- 65) * shift) % 26 + 65)\n",
    "        else:\n",
    "            cipher = cipher + chr(((ord(char)-97) * shift) % 26 + 97)\n",
    "  \n",
    "    return cipher\n",
    "\n",
    " \n",
    "text = input(\"Enter string: \")\n",
    "s = int(input(\"Enter shift number: \"))\n",
    "si= inv(s)\n",
    "if si != None:\n",
    "    print(\"Original string: \",text)\n",
    "    print(\"After encryption: \",encrypt(text, s))\n",
    "    text2=encrypt(text, s)\n",
    "    print(\"After decryption: \",decrypt(text2, si))\n",
    "else:\n",
    "    print(\"Invalid key\")"
   ]
  }
 ],
 "metadata": {
  "kernelspec": {
   "display_name": "Python 3",
   "language": "python",
   "name": "python3"
  },
  "language_info": {
   "codemirror_mode": {
    "name": "ipython",
    "version": 3
   },
   "file_extension": ".py",
   "mimetype": "text/x-python",
   "name": "python",
   "nbconvert_exporter": "python",
   "pygments_lexer": "ipython3",
   "version": "3.7.6"
  }
 },
 "nbformat": 4,
 "nbformat_minor": 4
}
