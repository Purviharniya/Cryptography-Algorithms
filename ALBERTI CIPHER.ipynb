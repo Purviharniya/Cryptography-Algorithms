{
 "cells": [
  {
   "cell_type": "code",
   "execution_count": 3,
   "metadata": {},
   "outputs": [
    {
     "name": "stdout",
     "output_type": "stream",
     "text": [
      "Initial shift:1\n",
      "Periodic increment:2\n",
      "Period:3\n",
      "enter text:dcode\n",
      "\n",
      "Encrypted Text: edpgh\n",
      "\n",
      "Decrypted Text: dcode\n"
     ]
    }
   ],
   "source": [
    "def left_shift(seq, n):\n",
    "    return seq[n:]+seq[:n]\n",
    "\n",
    "def encrypt(t,s,pi,p):\n",
    "    disk_fixed = list('abcdefghijklmnopqrstuvwzyx')\n",
    "    disk_rotate = list('abcdefghijklmnopqrstuvwxyz')\n",
    "    cipher=\"\"\n",
    "    disk_rotate= left_shift(disk_rotate,s)\n",
    "    r=0\n",
    "    for i in range(len(t)):\n",
    "        r+=1\n",
    "        temp= disk_fixed.index(t[i])\n",
    "        cipher+=disk_rotate[temp]\n",
    "        if(r==p):\n",
    "            r=0\n",
    "            disk_rotate=left_shift(disk_rotate,pi)\n",
    "    \n",
    "    print(\"\\nEncrypted Text:\",cipher)\n",
    "    \n",
    "def decrypt(c,s,pi,p):\n",
    "    disk_fixed = list('abcdefghijklmnopqrstuvwzyx')\n",
    "    disk_rotate = list('abcdefghijklmnopqrstuvwxyz')\n",
    "    cipher=\"\"\n",
    "    disk_rotate= left_shift(disk_rotate,s)\n",
    "    r=0\n",
    "    for i in range(len(c)):\n",
    "        r+=1\n",
    "        temp= disk_rotate.index(c[i])\n",
    "        cipher+=disk_fixed[temp]\n",
    "        if(r==p):\n",
    "            r=0\n",
    "            disk_rotate=left_shift(disk_rotate,pi)\n",
    "    \n",
    "    print(\"\\nDecrypted Text:\",cipher)\n",
    "\n",
    "    \n",
    "initial_shift=int(input(\"Initial shift:\"))\n",
    "periodic_increment=int(input(\"Periodic increment:\"))\n",
    "period=int(input(\"Period:\"))\n",
    "\n",
    "text=input(\"enter text:\")\n",
    "encrypt(text,initial_shift,periodic_increment,period)\n",
    "decrypt('edpgh',1,2,3)"
   ]
  },
  {
   "cell_type": "code",
   "execution_count": null,
   "metadata": {},
   "outputs": [],
   "source": []
  }
 ],
 "metadata": {
  "kernelspec": {
   "display_name": "Python 3",
   "language": "python",
   "name": "python3"
  },
  "language_info": {
   "codemirror_mode": {
    "name": "ipython",
    "version": 3
   },
   "file_extension": ".py",
   "mimetype": "text/x-python",
   "name": "python",
   "nbconvert_exporter": "python",
   "pygments_lexer": "ipython3",
   "version": "3.7.6"
  }
 },
 "nbformat": 4,
 "nbformat_minor": 4
}
