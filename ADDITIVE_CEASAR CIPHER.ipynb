{
 "cells": [
  {
   "cell_type": "code",
   "execution_count": 2,
   "metadata": {},
   "outputs": [
    {
     "name": "stdout",
     "output_type": "stream",
     "text": [
      "Enter the string: purvi\n",
      "Enter the shift number: 3\n",
      "\n",
      "Original string:  purvi\n",
      "\n",
      "After Encryption:  sxuyl\n",
      "\n",
      "After Decryption:  purvi\n"
     ]
    }
   ],
   "source": [
    "def encrypt(string, shift):\n",
    "    cipher = ''\n",
    "    for char in string: \n",
    "        if char == ' ':\n",
    "            cipher = cipher + char\n",
    "        elif  char.isupper():\n",
    "            cipher = cipher + chr((ord(char) + shift - 65) % 26 + 65)\n",
    "        else:\n",
    "            cipher = cipher + chr((ord(char) + shift - 97) % 26 + 97)\n",
    "    return cipher\n",
    "\n",
    "def decrypt(string,shift):\n",
    "    cipher = ''\n",
    "    for char in string: \n",
    "        if char == ' ':\n",
    "            cipher = cipher + char\n",
    "        elif  char.isupper():\n",
    "            cipher = cipher + chr((ord(char) - shift - 65) % 26 + 65)\n",
    "        else:\n",
    "            cipher = cipher + chr((ord(char) - shift - 97) % 26 + 97)\n",
    "  \n",
    "    return cipher\n",
    "\n",
    " \n",
    "text = input(\"Enter the string: \")\n",
    "s = int(input(\"Enter the shift number: \"))\n",
    "print(\"\\nOriginal string: \",text)\n",
    "print(\"\\nAfter Encryption: \",encrypt(text, s))\n",
    "text2=encrypt(text, s)\n",
    "print(\"\\nAfter Decryption: \",decrypt(text2, s))"
   ]
  }
 ],
 "metadata": {
  "kernelspec": {
   "display_name": "Python 3",
   "language": "python",
   "name": "python3"
  },
  "language_info": {
   "codemirror_mode": {
    "name": "ipython",
    "version": 3
   },
   "file_extension": ".py",
   "mimetype": "text/x-python",
   "name": "python",
   "nbconvert_exporter": "python",
   "pygments_lexer": "ipython3",
   "version": "3.7.6"
  }
 },
 "nbformat": 4,
 "nbformat_minor": 4
}
